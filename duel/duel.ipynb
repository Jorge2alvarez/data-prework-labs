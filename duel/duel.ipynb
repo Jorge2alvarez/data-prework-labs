{
 "cells": [
  {
   "cell_type": "markdown",
   "metadata": {},
   "source": [
    "# Duel of sorcerers\n",
    "You are witnessing an epic battle between two powerful sorcerers: Gandalf and Saruman. Each sorcerer has 10 spells of variable power in their mind and they are going to throw them one after the other. The winner of the duel will be the one who wins more of those clashes between spells. Spells are represented as a list of 10 integers whose value equals the power of the spell.\n",
    "```\n",
    "gandalf = [10, 11, 13, 30, 22, 11, 10, 33, 22, 22]\n",
    "saruman = [23, 66, 12, 43, 12, 10, 44, 23, 12, 17]\n",
    "```\n",
    "For example:\n",
    "1. The first clash is won by Saruman: 10 against 23, wins 23\n",
    "2. The second clash wins Saruman: 11 against 66, wins 66\n",
    "3. etc.\n",
    "\n",
    "\n",
    "You will create two variables, one for each sorcerer, where the sum of clashes won will be stored. Depending on which variable is greater at the end of the duel, you will show one of the following three results on the screen:\n",
    "* Gandalf wins\n",
    "* Saruman wins\n",
    "* Tie\n",
    "\n",
    "<img src=\"images/content_lightning_bolt_big.jpg\" width=\"400\">"
   ]
  },
  {
   "cell_type": "markdown",
   "metadata": {},
   "source": [
    "## Solution"
   ]
  },
  {
   "cell_type": "code",
   "execution_count": 149,
   "metadata": {},
   "outputs": [],
   "source": [
    "# Assign spell power lists to variables\n",
    "\n",
    "gandalf = [10, 11, 13, 30, 22, 11, 10, 33, 22, 22]\n",
    "saruman = [23, 66, 12, 43, 12, 10, 44, 23, 12, 17]"
   ]
  },
  {
   "cell_type": "code",
   "execution_count": 150,
   "metadata": {},
   "outputs": [],
   "source": [
    "# Assign 0 to each variable that stores the victories\n",
    "gandalf_wins = 0\n",
    "suruman_wins = 0"
   ]
  },
  {
   "cell_type": "code",
   "execution_count": 151,
   "metadata": {},
   "outputs": [
    {
     "name": "stdout",
     "output_type": "stream",
     "text": [
      "Saruman wins - Round: 1\n",
      "Saruman wins - Round: 2\n",
      "Gandalf wins - Round: 3\n",
      "Saruman wins - Round: 4\n",
      "Gandalf wins - Round: 5\n",
      "Gandalf wins - Round: 6\n",
      "Saruman wins - Round: 7\n",
      "Gandalf wins - Round: 8\n",
      "Gandalf wins - Round: 9\n",
      "Gandalf wins - Round: 10\n"
     ]
    }
   ],
   "source": [
    "# Execution of spell clashes\n",
    "rounds = int((len(gandalf) + len(saruman))/2)\n",
    "for i in range(0,rounds):\n",
    "    if gandalf[i] < saruman[i]:\n",
    "        saruman_wins = saruman_wins + 1\n",
    "        print(\"Saruman wins - Round:\", i+1)\n",
    "    elif gandalf[i] > saruman[i]:\n",
    "        gandalf_wins = gandalf_wins + 1\n",
    "        print(\"Gandalf wins - Round:\", i+1)\n",
    "    else:\n",
    "        print(\"Round\", i+1, \"tied\")    "
   ]
  },
  {
   "cell_type": "code",
   "execution_count": 152,
   "metadata": {},
   "outputs": [
    {
     "name": "stdout",
     "output_type": "stream",
     "text": [
      "Gandalf wins\n"
     ]
    }
   ],
   "source": [
    "# We check who has won, do not forget the possibility of a draw.\n",
    "# Print the result based on the winner.\n",
    "if gandalf_wins < saruman_wins:\n",
    "    print(\"Saruman wins\")\n",
    "elif gandalf_wins > saruman_wins:\n",
    "    print(\"Gandalf wins\")  \n",
    "else:\n",
    "    print(\"Tie\")"
   ]
  },
  {
   "cell_type": "markdown",
   "metadata": {},
   "source": [
    "## Goals\n",
    "\n",
    "1. Treatment of lists\n",
    "2. Use of **for loop**\n",
    "3. Use of conditional **if-elif-else**\n",
    "4. Use of the functions **range(), len()**\n",
    "5. Print"
   ]
  },
  {
   "cell_type": "markdown",
   "metadata": {},
   "source": [
    "## Bonus\n",
    "\n",
    "1. Spells now have a name and there is a dictionary that relates that name to a power.\n",
    "2. A sorcerer wins if he succeeds in winning 3 spell clashes in a row.\n",
    "3. Average of each of the spell lists.\n",
    "4. Standard deviation of each of the spell lists.\n",
    "\n",
    "```\n",
    "POWER = {\n",
    "    'Fireball': 50, \n",
    "    'Lightning bolt': 40, \n",
    "    'Magic arrow': 10, \n",
    "    'Black Tentacles': 25, \n",
    "    'Contagion': 45\n",
    "}\n",
    "\n",
    "gandalf = ['Fireball', 'Lightning bolt', 'Lightning bolt', 'Magic arrow', 'Fireball', \n",
    "           'Magic arrow', 'Lightning bolt', 'Fireball', 'Fireball', 'Fireball']\n",
    "saruman = ['Contagion', 'Contagion', 'Black Tentacles', 'Fireball', 'Black Tentacles', \n",
    "           'Lightning bolt', 'Magic arrow', 'Contagion', 'Magic arrow', 'Magic arrow']\n",
    "```\n",
    "\n",
    "Good luck!"
   ]
  },
  {
   "cell_type": "code",
   "execution_count": 153,
   "metadata": {},
   "outputs": [],
   "source": [
    "# 1. Spells now have a name and there is a dictionary that relates that name to a power.\n",
    "# variables\n",
    "\n",
    "POWER = {\n",
    "    'Fireball': 50, \n",
    "    'Lightning bolt': 40, \n",
    "    'Magic arrow': 10, \n",
    "    'Black Tentacles': 25, \n",
    "    'Contagion': 45\n",
    "}\n",
    "\n",
    "gandalf = ['Fireball', 'Lightning bolt', 'Lightning bolt', 'Magic arrow', 'Fireball', \n",
    "           'Magic arrow', 'Lightning bolt', 'Fireball', 'Magic arrow', 'Fireball']\n",
    "saruman = ['Contagion', 'Contagion', 'Black Tentacles', 'Fireball', 'Black Tentacles', \n",
    "           'Lightning bolt', 'Magic arrow', 'Contagion', 'Magic arrow', 'Magic arrow']"
   ]
  },
  {
   "cell_type": "code",
   "execution_count": 154,
   "metadata": {},
   "outputs": [
    {
     "name": "stdout",
     "output_type": "stream",
     "text": [
      "Gandalf Spells Power: [50, 40, 40, 10, 50, 10, 40, 50, 10, 50]\n",
      "Saruman Spells Power: [45, 45, 25, 50, 25, 40, 10, 45, 10, 10]\n"
     ]
    }
   ],
   "source": [
    "# Assign spell power lists to variables\n",
    "gandalf_spells_power = []\n",
    "saruman_spells_power = []\n",
    "\n",
    "for e in range(0,10):\n",
    "        gandalf_spells_power.append(POWER[gandalf[e]])\n",
    "        saruman_spells_power.append(POWER[saruman[e]])\n",
    "print(\"Gandalf Spells Power:\", gandalf_spells_power)\n",
    "print(\"Saruman Spells Power:\", saruman_spells_power)\n"
   ]
  },
  {
   "cell_type": "code",
   "execution_count": 156,
   "metadata": {},
   "outputs": [
    {
     "name": "stdout",
     "output_type": "stream",
     "text": [
      "Gandalf wins - Round: 1\n",
      "Saruman wins - Round: 2\n",
      "Gandalf wins - Round: 3\n",
      "Saruman wins - Round: 4\n",
      "Gandalf wins - Round: 5\n",
      "Saruman wins - Round: 6\n",
      "Gandalf wins - Round: 7\n",
      "Gandalf wins - Round: 8\n",
      "Round 9 tied\n",
      "Gandalf wins - Round: 10\n",
      "= = = The combat has ended = = = \n",
      "Gandalf won 3 spells in a row\n",
      "Gandalf wins\n"
     ]
    }
   ],
   "source": [
    "# 2. A sorcerer wins if he succeeds in winning 3 spell clashes in a row.\n",
    "gandalf_rounds = 0\n",
    "saruman_rounds = 0\n",
    "\n",
    "# Execution of spell clashes\n",
    "\n",
    "rounds = int((len(gandalf) + len(saruman))/2)\n",
    "\n",
    "for i in range(0,rounds):\n",
    "    if (gandalf_spells_power[i] < saruman_spells_power[i]) and (gandalf_rounds < 3) and (saruman_rounds < 3):\n",
    "        print(\"Saruman wins - Round:\", i+1)\n",
    "        saruman_rounds = saruman_rounds + 1\n",
    "        gandalf_rounds = 0\n",
    "        #print(\"- Gandalf rounds:\", gandalf_rounds)\n",
    "        #print(\"- Saruman rounds:\", saruman_rounds)\n",
    "    elif (gandalf_spells_power[i] > saruman_spells_power[i]) and (gandalf_rounds < 3) and (saruman_rounds < 3):\n",
    "        print(\"Gandalf wins - Round:\", i+1)\n",
    "        gandalf_rounds = gandalf_rounds + 1\n",
    "        saruman_rounds = 0\n",
    "        #print(\"- Gandalf rounds:\", gandalf_rounds)\n",
    "        #print(\"- Saruman rounds:\", saruman_rounds)\n",
    "    elif (gandalf_rounds == 3) or (saruman_rounds == 3):\n",
    "        break\n",
    "    else:\n",
    "        print(\"Round\", i+1, \"tied\")\n",
    "        #print(\"- Gandalf rounds:\", gandalf_rounds)\n",
    "        #print(\"- Saruman rounds:\", saruman_rounds)\n",
    "\n",
    "print(\"= = = The combat has ended = = = \")\n",
    "# check for 3 wins in a row\n",
    "if gandalf_rounds == 3:\n",
    "    print(\"Gandalf won 3 spells in a row\")\n",
    "elif saruman_rounds == 3:\n",
    "    print(\"Saruman won 3 spells in a row\")\n",
    "else:\n",
    "    print(\"Noneone won 3 spells in a row\")\n",
    "\n",
    "# check the winner\n",
    "\n",
    "if gandalf_rounds < saruman_rounds:\n",
    "    print(\"Saruman wins\")\n",
    "elif gandalf_rounds > saruman_rounds:\n",
    "    print(\"Gandalf wins\")  \n",
    "else:\n",
    "    print(\"Tie\")\n"
   ]
  },
  {
   "cell_type": "code",
   "execution_count": 157,
   "metadata": {},
   "outputs": [
    {
     "name": "stdout",
     "output_type": "stream",
     "text": [
      "Gandalf - Avg. spell power: 35.0\n",
      "Saruman - Avg. spell power: 30.5\n"
     ]
    }
   ],
   "source": [
    "# 3. Average of each of the spell lists.\n",
    "avg_gandalf_spell = sum(gandalf_spells_power) / len(gandalf_spells_power)\n",
    "avg_saruman_spell = sum(saruman_spells_power) / len(saruman_spells_power)\n",
    "\n",
    "print(\"Gandalf - Avg. spell power:\", avg_gandalf_spell)\n",
    "print(\"Saruman - Avg. spell power:\", avg_saruman_spell)\n"
   ]
  },
  {
   "cell_type": "code",
   "execution_count": 158,
   "metadata": {},
   "outputs": [
    {
     "name": "stdout",
     "output_type": "stream",
     "text": [
      "Gandalf Standard Deviation: 17.795130420052185\n",
      "Saruman Standard Deviation: 16.40629960309962\n"
     ]
    }
   ],
   "source": [
    "# 4. Standard deviation of each of the spell lists.\n",
    "\n",
    "gandalf_sum_square = 0\n",
    "saruman_sum_square = 0\n",
    "for i in range(0,10):\n",
    "    gandalf_sum_square = gandalf_sum_square + (gandalf_spells_power[i] - avg_gandalf_spell) ** 2\n",
    "    saruman_sum_square = saruman_sum_square + (saruman_spells_power[i] - avg_saruman_spell) ** 2\n",
    "    \n",
    "gandalf_s_deviation = (gandalf_sum_square / (len(gandalf_spells_power)-1)) ** .5\n",
    "saruman_s_deviation = (saruman_sum_square / (len(saruman_spells_power)-1)) ** .5\n",
    "\n",
    "print(\"Gandalf Standard Deviation:\", gandalf_s_deviation)\n",
    "print(\"Saruman Standard Deviation:\", saruman_s_deviation)"
   ]
  },
  {
   "cell_type": "code",
   "execution_count": null,
   "metadata": {},
   "outputs": [],
   "source": []
  }
 ],
 "metadata": {
  "kernelspec": {
   "display_name": "Python 3",
   "language": "python",
   "name": "python3"
  },
  "language_info": {
   "codemirror_mode": {
    "name": "ipython",
    "version": 3
   },
   "file_extension": ".py",
   "mimetype": "text/x-python",
   "name": "python",
   "nbconvert_exporter": "python",
   "pygments_lexer": "ipython3",
   "version": "3.7.3"
  }
 },
 "nbformat": 4,
 "nbformat_minor": 2
}
